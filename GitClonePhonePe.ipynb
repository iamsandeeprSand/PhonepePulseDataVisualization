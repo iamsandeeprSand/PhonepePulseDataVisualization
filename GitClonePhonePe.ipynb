{
  "nbformat": 4,
  "nbformat_minor": 0,
  "metadata": {
    "colab": {
      "provenance": []
    },
    "kernelspec": {
      "name": "python3",
      "display_name": "Python 3"
    },
    "language_info": {
      "name": "python"
    }
  },
  "cells": [
    {
      "cell_type": "markdown",
      "source": [
        "# **Fetch PhonePe Pulse Data in JSON format using Git Clone**"
      ],
      "metadata": {
        "id": "UU0WvBnJcGJY"
      }
    },
    {
      "cell_type": "code",
      "execution_count": 1,
      "metadata": {
        "colab": {
          "base_uri": "https://localhost:8080/"
        },
        "id": "rpd0NqlVbLxT",
        "outputId": "e5531ac4-d04e-4352-a866-c84a17b09984"
      },
      "outputs": [
        {
          "output_type": "stream",
          "name": "stdout",
          "text": [
            "Cloning into 'pulse'...\n",
            "remote: Enumerating objects: 8891, done.\u001b[K\n",
            "remote: Counting objects: 100% (8891/8891), done.\u001b[K\n",
            "remote: Compressing objects: 100% (7400/7400), done.\u001b[K\n",
            "remote: Total 8891 (delta 2789), reused 7257 (delta 1170), pack-reused 0\u001b[K\n",
            "Receiving objects: 100% (8891/8891), 2.30 MiB | 5.98 MiB/s, done.\n",
            "Resolving deltas: 100% (2789/2789), done.\n"
          ]
        }
      ],
      "source": [
        "!git clone https://github.com/PhonePe/pulse"
      ]
    },
    {
      "cell_type": "markdown",
      "source": [
        "# **Importhig required Python libraries**"
      ],
      "metadata": {
        "id": "Ou8Jcx1scjTh"
      }
    },
    {
      "cell_type": "code",
      "source": [
        "import os\n",
        "import pandas as pd\n",
        "import json"
      ],
      "metadata": {
        "id": "OHkw2GeSbT34"
      },
      "execution_count": 2,
      "outputs": []
    },
    {
      "cell_type": "markdown",
      "source": [
        "# **Extracting Data from JSON filre to Data Frame in Pandas**"
      ],
      "metadata": {
        "id": "DNRqofs1cEfc"
      }
    },
    {
      "cell_type": "markdown",
      "source": [
        "Extracting Aggregated Transaction Details"
      ],
      "metadata": {
        "id": "2tmJnx5Ddd_V"
      }
    },
    {
      "cell_type": "code",
      "source": [
        "path_1 = \"/content/pulse/data/aggregated/transaction/country/india/state/\"\n",
        "Agg_tran_state_list = os.listdir(path_1)\n",
        "\n",
        "Agg_tra = {'State': [], 'Year': [], 'Quarter': [], 'Transaction_type': [], 'Transaction_count': [],\n",
        "           'Transaction_amount': []}\n",
        "\n",
        "for i in Agg_tran_state_list:\n",
        "    p_i = path_1 + i + \"/\"\n",
        "    Agg_yr = os.listdir(p_i)\n",
        "\n",
        "    for j in Agg_yr:\n",
        "        p_j = p_i + j + \"/\"\n",
        "        Agg_yr_list = os.listdir(p_j)\n",
        "\n",
        "        for k in Agg_yr_list:\n",
        "            p_k = p_j + k\n",
        "            Data = open(p_k, 'r')\n",
        "            A = json.load(Data)\n",
        "\n",
        "            for l in A['data']['transactionData']:\n",
        "                Name = l['name']\n",
        "                count = l['paymentInstruments'][0]['count']\n",
        "                amount = l['paymentInstruments'][0]['amount']\n",
        "                Agg_tra['State'].append(i)\n",
        "                Agg_tra['Year'].append(j)\n",
        "                Agg_tra['Quarter'].append(int(k.strip('.json')))\n",
        "                Agg_tra['Transaction_type'].append(Name)\n",
        "                Agg_tra['Transaction_count'].append(count)\n",
        "                Agg_tra['Transaction_amount'].append(amount)\n",
        "\n",
        "df_aggregated_transaction = pd.DataFrame(Agg_tra)"
      ],
      "metadata": {
        "id": "C18CQQjAbYRg"
      },
      "execution_count": 3,
      "outputs": []
    },
    {
      "cell_type": "markdown",
      "source": [
        "*Extracting Aggregated User *"
      ],
      "metadata": {
        "id": "m_H3_cNDdvON"
      }
    },
    {
      "cell_type": "code",
      "source": [
        "path_2 = \"/content/pulse/data/aggregated/user/country/india/state/\"\n",
        "Agg_user_state_list = os.listdir(path_2)\n",
        "\n",
        "Agg_user = {'State': [], 'Year': [], 'Quarter': [], 'Brands': [], 'User_Count': [], 'User_Percentage': []}\n",
        "\n",
        "for i in Agg_user_state_list:\n",
        "    p_i = path_2 + i + \"/\"\n",
        "    Agg_yr = os.listdir(p_i)\n",
        "\n",
        "    for j in Agg_yr:\n",
        "        p_j = p_i + j + \"/\"\n",
        "        Agg_yr_list = os.listdir(p_j)\n",
        "\n",
        "        for k in Agg_yr_list:\n",
        "            p_k = p_j + k\n",
        "            Data = open(p_k, 'r')\n",
        "            B = json.load(Data)\n",
        "\n",
        "            try:\n",
        "                for l in B[\"data\"][\"usersByDevice\"]:\n",
        "                    brand_name = l[\"brand\"]\n",
        "                    count_ = l[\"count\"]\n",
        "                    ALL_percentage = l[\"percentage\"]\n",
        "                    Agg_user[\"State\"].append(i)\n",
        "                    Agg_user[\"Year\"].append(j)\n",
        "                    Agg_user[\"Quarter\"].append(int(k.strip('.json')))\n",
        "                    Agg_user[\"Brands\"].append(brand_name)\n",
        "                    Agg_user[\"User_Count\"].append(count_)\n",
        "                    Agg_user[\"User_Percentage\"].append(ALL_percentage * 100)\n",
        "            except:\n",
        "                pass\n",
        "\n",
        "df_aggregated_user = pd.DataFrame(Agg_user)"
      ],
      "metadata": {
        "id": "k5pAJsKkbbi8"
      },
      "execution_count": 6,
      "outputs": []
    },
    {
      "cell_type": "markdown",
      "source": [
        "*Extracting Map Transaction Details*"
      ],
      "metadata": {
        "id": "kn0Jisfudzu_"
      }
    },
    {
      "cell_type": "code",
      "source": [
        "path_3 = \"/content/pulse/data/map/transaction/hover/country/india/state/\"\n",
        "map_tra_state_list = os.listdir(path_3)\n",
        "\n",
        "map_tra = {'State': [], 'Year': [], 'Quarter': [], 'District': [], 'Transaction_Count': [], 'Transaction_Amount': []}\n",
        "\n",
        "for i in map_tra_state_list:\n",
        "    p_i = path_3 + i + \"/\"\n",
        "    Agg_yr = os.listdir(p_i)\n",
        "\n",
        "    for j in Agg_yr:\n",
        "        p_j = p_i + j + \"/\"\n",
        "        Agg_yr_list = os.listdir(p_j)\n",
        "\n",
        "        for k in Agg_yr_list:\n",
        "            p_k = p_j + k\n",
        "            Data = open(p_k, 'r')\n",
        "            C = json.load(Data)\n",
        "\n",
        "            for l in C[\"data\"][\"hoverDataList\"]:\n",
        "                District = l[\"name\"]\n",
        "                count = l[\"metric\"][0][\"count\"]\n",
        "                amount = l[\"metric\"][0][\"amount\"]\n",
        "                map_tra['State'].append(i)\n",
        "                map_tra['Year'].append(j)\n",
        "                map_tra['Quarter'].append(int(k.strip('.json')))\n",
        "                map_tra[\"District\"].append(District)\n",
        "                map_tra[\"Transaction_Count\"].append(count)\n",
        "                map_tra[\"Transaction_Amount\"].append(amount)\n",
        "\n",
        "df_map_transaction = pd.DataFrame(map_tra)"
      ],
      "metadata": {
        "id": "6dEUOhU5bju8"
      },
      "execution_count": 7,
      "outputs": []
    },
    {
      "cell_type": "markdown",
      "source": [
        "*Extracting Map User Details*"
      ],
      "metadata": {
        "id": "yROv--Whd-fl"
      }
    },
    {
      "cell_type": "code",
      "source": [
        "path_4 = \"/content/pulse/data/map/user/hover/country/india/state/\"\n",
        "map_user_state_list = os.listdir(path_4)\n",
        "\n",
        "map_user = {\"State\": [], \"Year\": [], \"Quarter\": [], \"District\": [], \"Registered_User\": []}\n",
        "\n",
        "for i in map_user_state_list:\n",
        "    p_i = path_4 + i + \"/\"\n",
        "    Agg_yr = os.listdir(p_i)\n",
        "\n",
        "    for j in Agg_yr:\n",
        "        p_j = p_i + j + \"/\"\n",
        "        Agg_yr_list = os.listdir(p_j)\n",
        "\n",
        "        for k in Agg_yr_list:\n",
        "            p_k = p_j + k\n",
        "            Data = open(p_k, 'r')\n",
        "            D = json.load(Data)\n",
        "\n",
        "            for l in D[\"data\"][\"hoverData\"].items():\n",
        "                district = l[0]\n",
        "                registereduser = l[1][\"registeredUsers\"]\n",
        "                map_user['State'].append(i)\n",
        "                map_user['Year'].append(j)\n",
        "                map_user['Quarter'].append(int(k.strip('.json')))\n",
        "                map_user[\"District\"].append(district)\n",
        "                map_user[\"Registered_User\"].append(registereduser)\n",
        "\n",
        "df_map_user = pd.DataFrame(map_user)"
      ],
      "metadata": {
        "id": "A6Un9uZQb2NZ"
      },
      "execution_count": 8,
      "outputs": []
    },
    {
      "cell_type": "markdown",
      "source": [
        "*Extracting Top Transaction Details*"
      ],
      "metadata": {
        "id": "SpoEewvpeFNK"
      }
    },
    {
      "cell_type": "code",
      "source": [
        "path_5 = \"/content/pulse/data/top/transaction/country/india/state/\"\n",
        "top_tra_state_list = os.listdir(path_5)\n",
        "\n",
        "top_tra = {'State': [], 'Year': [], 'Quarter': [], 'District_Pincode': [], 'Transaction_count': [],\n",
        "           'Transaction_amount': []}\n",
        "\n",
        "for i in top_tra_state_list:\n",
        "    p_i = path_5 + i + \"/\"\n",
        "    Agg_yr = os.listdir(p_i)\n",
        "\n",
        "    for j in Agg_yr:\n",
        "        p_j = p_i + j + \"/\"\n",
        "        Agg_yr_list = os.listdir(p_j)\n",
        "\n",
        "        for k in Agg_yr_list:\n",
        "            p_k = p_j + k\n",
        "            Data = open(p_k, 'r')\n",
        "            E = json.load(Data)\n",
        "\n",
        "            for l in E['data']['pincodes']:\n",
        "                Name = l['entityName']\n",
        "                count = l['metric']['count']\n",
        "                amount = l['metric']['amount']\n",
        "                top_tra['State'].append(i)\n",
        "                top_tra['Year'].append(j)\n",
        "                top_tra['Quarter'].append(int(k.strip('.json')))\n",
        "                top_tra['District_Pincode'].append(Name)\n",
        "                top_tra['Transaction_count'].append(count)\n",
        "                top_tra['Transaction_amount'].append(amount)\n",
        "\n",
        "df_top_transaction = pd.DataFrame(top_tra)"
      ],
      "metadata": {
        "id": "aRHUG7fAb4cH"
      },
      "execution_count": 9,
      "outputs": []
    },
    {
      "cell_type": "markdown",
      "source": [
        "*Extracting Top User Details*"
      ],
      "metadata": {
        "id": "7h09zSSeeNA6"
      }
    },
    {
      "cell_type": "code",
      "source": [
        "path_6 = \"/content/pulse/data/top/user/country/india/state/\"\n",
        "top_user_state_list = os.listdir(path_6)\n",
        "\n",
        "top_user = {'State': [], 'Year': [], 'Quarter': [], 'District_Pincode': [], 'Registered_User': []}\n",
        "\n",
        "for i in top_user_state_list:\n",
        "    p_i = path_6 + i + \"/\"\n",
        "    Agg_yr = os.listdir(p_i)\n",
        "\n",
        "    for j in Agg_yr:\n",
        "        p_j = p_i + j + \"/\"\n",
        "        Agg_yr_list = os.listdir(p_j)\n",
        "\n",
        "        for k in Agg_yr_list:\n",
        "            p_k = p_j + k\n",
        "            Data = open(p_k, 'r')\n",
        "            F = json.load(Data)\n",
        "\n",
        "            for l in F['data']['pincodes']:\n",
        "                Name = l['name']\n",
        "                registeredUser = l['registeredUsers']\n",
        "                top_user['State'].append(i)\n",
        "                top_user['Year'].append(j)\n",
        "                top_user['Quarter'].append(int(k.strip('.json')))\n",
        "                top_user['District_Pincode'].append(Name)\n",
        "                top_user['Registered_User'].append(registeredUser)\n",
        "\n",
        "df_top_user = pd.DataFrame(top_user)"
      ],
      "metadata": {
        "id": "K5Y5xZWCb7Oz"
      },
      "execution_count": 10,
      "outputs": []
    },
    {
      "cell_type": "markdown",
      "source": [
        "**Converting and Downloading all the Data Frame files to CSV**"
      ],
      "metadata": {
        "id": "5Gb4bdTYeWny"
      }
    },
    {
      "cell_type": "code",
      "source": [
        "df_top_user.to_csv('top_user.csv')\n",
        "df_top_transaction.to_csv('top_transaction.csv')\n",
        "df_map_user.to_csv('map_user.csv')\n",
        "df_map_transaction.to_csv('map_transaction.csv')\n",
        "df_aggregated_user.to_csv('aggregated_user.csv')\n",
        "df_aggregated_transaction.to_csv('aggregated_transaction.csv')"
      ],
      "metadata": {
        "id": "00a0ywgPb9Pj"
      },
      "execution_count": null,
      "outputs": []
    }
  ]
}